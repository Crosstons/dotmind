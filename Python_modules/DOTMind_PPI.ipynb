{
  "nbformat": 4,
  "nbformat_minor": 0,
  "metadata": {
    "colab": {
      "provenance": []
    },
    "kernelspec": {
      "name": "python3",
      "display_name": "Python 3"
    },
    "language_info": {
      "name": "python"
    }
  },
  "cells": [
    {
      "cell_type": "code",
      "source": [
        "# Polkadot Python Interface Testing Playbook"
      ],
      "metadata": {
        "id": "yt0uEsu-6M_u"
      },
      "execution_count": null,
      "outputs": []
    },
    {
      "cell_type": "code",
      "source": [
        "!pip install substrate-interface\n",
        "!pip install google-generativeai"
      ],
      "metadata": {
        "id": "3VMMJEyd6829"
      },
      "execution_count": null,
      "outputs": []
    },
    {
      "cell_type": "code",
      "source": [
        "# Converting textual datetime classified using token classification model, into Python usable format.\n",
        "\n",
        "import google.generativeai as genai\n",
        "\n",
        "genai.configure(api_key=\"KEY\")\n",
        "\n",
        "# Set up the model\n",
        "generation_config = {\n",
        "  \"temperature\": 0.9,\n",
        "  \"top_p\": 1,\n",
        "  \"top_k\": 1,\n",
        "  \"max_output_tokens\": 2048,\n",
        "}\n",
        "\n",
        "safety_settings = [\n",
        "  {\n",
        "    \"category\": \"HARM_CATEGORY_HARASSMENT\",\n",
        "    \"threshold\": \"BLOCK_MEDIUM_AND_ABOVE\"\n",
        "  },\n",
        "  {\n",
        "    \"category\": \"HARM_CATEGORY_HATE_SPEECH\",\n",
        "    \"threshold\": \"BLOCK_MEDIUM_AND_ABOVE\"\n",
        "  },\n",
        "  {\n",
        "    \"category\": \"HARM_CATEGORY_SEXUALLY_EXPLICIT\",\n",
        "    \"threshold\": \"BLOCK_MEDIUM_AND_ABOVE\"\n",
        "  },\n",
        "  {\n",
        "    \"category\": \"HARM_CATEGORY_DANGEROUS_CONTENT\",\n",
        "    \"threshold\": \"BLOCK_MEDIUM_AND_ABOVE\"\n",
        "  },\n",
        "]\n",
        "\n",
        "model = genai.GenerativeModel(model_name=\"gemini-1.0-pro\",\n",
        "                              generation_config=generation_config,\n",
        "                              safety_settings=safety_settings)"
      ],
      "metadata": {
        "id": "LU6bWe29u1q2"
      },
      "execution_count": 2,
      "outputs": []
    },
    {
      "cell_type": "code",
      "source": [
        "# Obtaining usable DateTime format\n",
        "\n",
        "from datetime import datetime\n",
        "\n",
        "curr = datetime.now()\n",
        "\n",
        "convo = model.start_chat(history=[\n",
        "  {\n",
        "    \"role\": \"user\",\n",
        "    \"parts\": [\"The current date time is \" + str(curr) + \" . Convert text based unstructured date time into Python usable structured date time format considering dates in future from the obtained result from the API, don't give any code or additional text in the output, just give the formatted DateTime object\"]\n",
        "  },\n",
        "  {\n",
        "    \"role\": \"model\",\n",
        "    \"parts\": [\"​\"]\n",
        "  },\n",
        "])\n",
        "\n",
        "convo.send_message(\"Send 10 DOT to Keval 48 hours from now\")\n",
        "print(convo.last.text)"
      ],
      "metadata": {
        "colab": {
          "base_uri": "https://localhost:8080/",
          "height": 52
        },
        "id": "nYAMuQRdI7wJ",
        "outputId": "de533996-940f-4492-e744-608cd01697ab"
      },
      "execution_count": 9,
      "outputs": [
        {
          "output_type": "stream",
          "name": "stdout",
          "text": [
            "2024-03-02 19:04:46.809878\n",
            "\"2024-03-04 19:04:46.809878\"\n"
          ]
        }
      ]
    },
    {
      "cell_type": "code",
      "source": [
        "# On-Chain Query Balance Instruction\n",
        "# RPC_URL = \"wss://astar-rpc.dwellir.com\"\n",
        "\n",
        "from substrateinterface import SubstrateInterface\n",
        "\n",
        "convo = model.start_chat(history=[\n",
        "  {\n",
        "    \"role\": \"user\",\n",
        "    \"parts\": [\"Here's a sample url of a dwellir API endpoint which connects with a node of Polkadot network and enables us to make requests to the network - wss://polkadot-rpc.dwellir.com, I will next provide you a name of some other Polkadot ecosystem chain, I want you to only build the corresponding dwellir wss api for it. The output that I expect is only URL and no extra text or information.\"]\n",
        "  },\n",
        "  {\n",
        "    \"role\": \"model\",\n",
        "    \"parts\": [\"​\"]\n",
        "  },\n",
        "])\n",
        "\n",
        "convo.send_message(\"Polkadot Network\")\n",
        "print(convo.last.text)\n",
        "\n",
        "substrate = SubstrateInterface(convo.last.text)\n",
        "\n",
        "result = substrate.query('System', 'Account', ['5HQAZ6HZBJtCvqu9TiW3MCwFdRuxJcN8hKMr2RYk2yhQnvgS'])\n",
        "print(result.value['data'])"
      ],
      "metadata": {
        "colab": {
          "base_uri": "https://localhost:8080/",
          "height": 52
        },
        "id": "ueX2X9yxBRvq",
        "outputId": "7584f76c-7aa3-4e31-a516-8cf74755d0c6"
      },
      "execution_count": null,
      "outputs": [
        {
          "output_type": "stream",
          "name": "stdout",
          "text": [
            "wss://polkadot-rpc.dwellir.com\n",
            "{'free': 327757740981, 'reserved': 0, 'frozen': 0, 'flags': 170141183460469231731687303715884105728}\n"
          ]
        }
      ]
    },
    {
      "cell_type": "code",
      "source": [
        "# For Price Quote Fetch\n",
        "# Use Gemini API for converting use requests into price feed api\n",
        "# https://api.coinbase.com/v2/prices/BTC-INR/spot\n",
        "\n",
        "import requests\n",
        "\n",
        "convo = model.start_chat(history=[\n",
        "  {\n",
        "    \"role\": \"user\",\n",
        "    \"parts\": [\"Here's a sample url of a coinbase API which fetches the price information of Bitcoin-USD pair (https://api.coinbase.com/v2/prices/BTC-INR/spot), I will next provide you a name of a cryptocurrency with its symbol or only a name, I want you to find the corresponding symbol for and construct the URL for its price feed on coinbase. The output that I expect is only URL and no extra text or information.\"]\n",
        "  },\n",
        "  {\n",
        "    \"role\": \"model\",\n",
        "    \"parts\": [\"​\"]\n",
        "  },\n",
        "])\n",
        "\n",
        "convo.send_message(\"what is Ethereum's current price?\")\n",
        "print(convo.last.text)\n",
        "\n",
        "response = requests.get(convo.last.text)\n",
        "print(response.json())"
      ],
      "metadata": {
        "colab": {
          "base_uri": "https://localhost:8080/",
          "height": 52
        },
        "id": "g57bF4T5zOr4",
        "outputId": "14b74c6e-3d41-45b4-80de-b10a886c6956"
      },
      "execution_count": 4,
      "outputs": [
        {
          "output_type": "stream",
          "name": "stdout",
          "text": [
            "https://api.coinbase.com/v2/prices/ETH-USD/spot\n",
            "{'data': {'amount': '3434.26', 'base': 'ETH', 'currency': 'USD'}}\n"
          ]
        }
      ]
    },
    {
      "cell_type": "code",
      "source": [
        "# Creating a new Keypair\n",
        "\n",
        "from substrateinterface import Keypair\n",
        "\n",
        "new_key = Keypair.generate_mnemonic()\n",
        "print(new_key)\n",
        "addr = Keypair.create_from_mnemonic(new_key)\n",
        "print(addr)"
      ],
      "metadata": {
        "id": "FHtWPEPJ7qcM",
        "colab": {
          "base_uri": "https://localhost:8080/"
        },
        "outputId": "d0c96773-9ac3-42d1-d417-8b9acfc2cf4d"
      },
      "execution_count": 6,
      "outputs": [
        {
          "output_type": "stream",
          "name": "stdout",
          "text": [
            "rival genre matrix normal coconut glad wire carbon rookie degree stuff design\n",
            "<Keypair (address=5FvCWaJGwkz1V7TTigKmD2uMfrZ6h75DAHpZUbKQMp9Q7tDK)>\n"
          ]
        }
      ]
    },
    {
      "cell_type": "code",
      "source": [],
      "metadata": {
        "id": "DIfJ2Xba4Vw1"
      },
      "execution_count": null,
      "outputs": []
    }
  ]
}