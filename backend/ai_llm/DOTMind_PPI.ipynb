{
  "nbformat": 4,
  "nbformat_minor": 0,
  "metadata": {
    "colab": {
      "provenance": []
    },
    "kernelspec": {
      "name": "python3",
      "display_name": "Python 3"
    },
    "language_info": {
      "name": "python"
    }
  },
  "cells": [
    {
      "cell_type": "code",
      "source": [
        "# Polkadot Python Interface Testing Playbook"
      ],
      "metadata": {
        "id": "yt0uEsu-6M_u"
      },
      "execution_count": null,
      "outputs": []
    },
    {
      "cell_type": "code",
      "source": [
        "!pip install substrate-interface\n",
        "!pip install google-generativeai"
      ],
      "metadata": {
        "id": "3VMMJEyd6829"
      },
      "execution_count": null,
      "outputs": []
    },
    {
      "cell_type": "code",
      "source": [
        "# Converting textual datetime classified using token classification model, into Python usable format.\n",
        "\n",
        "import google.generativeai as genai\n",
        "\n",
        "genai.configure(api_key=\"KEY\")\n",
        "\n",
        "# Set up the model\n",
        "generation_config = {\n",
        "  \"temperature\": 0.9,\n",
        "  \"top_p\": 1,\n",
        "  \"top_k\": 1,\n",
        "  \"max_output_tokens\": 2048,\n",
        "}\n",
        "\n",
        "safety_settings = [\n",
        "  {\n",
        "    \"category\": \"HARM_CATEGORY_HARASSMENT\",\n",
        "    \"threshold\": \"BLOCK_MEDIUM_AND_ABOVE\"\n",
        "  },\n",
        "  {\n",
        "    \"category\": \"HARM_CATEGORY_HATE_SPEECH\",\n",
        "    \"threshold\": \"BLOCK_MEDIUM_AND_ABOVE\"\n",
        "  },\n",
        "  {\n",
        "    \"category\": \"HARM_CATEGORY_SEXUALLY_EXPLICIT\",\n",
        "    \"threshold\": \"BLOCK_MEDIUM_AND_ABOVE\"\n",
        "  },\n",
        "  {\n",
        "    \"category\": \"HARM_CATEGORY_DANGEROUS_CONTENT\",\n",
        "    \"threshold\": \"BLOCK_MEDIUM_AND_ABOVE\"\n",
        "  },\n",
        "]\n",
        "\n",
        "model = genai.GenerativeModel(model_name=\"gemini-1.0-pro\",\n",
        "                              generation_config=generation_config,\n",
        "                              safety_settings=safety_settings)"
      ],
      "metadata": {
        "id": "LU6bWe29u1q2"
      },
      "execution_count": 9,
      "outputs": []
    },
    {
      "cell_type": "code",
      "source": [
        "# Obtaining usable DateTime format\n",
        "\n",
        "from datetime import datetime\n",
        "\n",
        "curr = datetime.now()\n",
        "\n",
        "convo = model.start_chat(history=[\n",
        "  {\n",
        "    \"role\": \"user\",\n",
        "    \"parts\": [\"The current date time is \" + str(curr) + \" . Convert text based unstructured date time into Python usable structured date time format considering dates in future from the obtained result from the API, don't give any code or additional text in the output, just give the formatted DateTime object\"]\n",
        "  },\n",
        "  {\n",
        "    \"role\": \"model\",\n",
        "    \"parts\": [\"​\"]\n",
        "  },\n",
        "])\n",
        "\n",
        "convo.send_message(\"Only give target datetime in python as the output - Send 10 DOT to Keval 48 hours from now\")\n",
        "print(convo.last.text)"
      ],
      "metadata": {
        "colab": {
          "base_uri": "https://localhost:8080/",
          "height": 34
        },
        "id": "nYAMuQRdI7wJ",
        "outputId": "a5ce8cf2-9662-4fe7-a81d-27ea527b96a9"
      },
      "execution_count": 30,
      "outputs": [
        {
          "output_type": "stream",
          "name": "stdout",
          "text": [
            "datetime.datetime(2024, 3, 5, 18, 28, 53, 908113)\n"
          ]
        }
      ]
    },
    {
      "cell_type": "code",
      "source": [
        "# On-Chain Query Balance Instruction\n",
        "# RPC_URL = \"wss://astar-rpc.dwellir.com\"\n",
        "\n",
        "from substrateinterface import SubstrateInterface\n",
        "\n",
        "convo = model.start_chat(history=[\n",
        "  {\n",
        "    \"role\": \"user\",\n",
        "    \"parts\": [\"Here's a sample url of a dwellir API endpoint which connects with a node of Aleph Zero network and enables us to make requests to the network - wss://aleph-zero-rpc.dwellir.com, for testnet the url becomes - wss://aleph-zero-testnet-rpc.dwellir.com, I will next provide you a prompt containing name of some other Polkadot ecosystem chain, I want you to only build the corresponding dwellir wss api for it. The output should be only the URL, do not give extra text or information.\"]\n",
        "  },\n",
        "  {\n",
        "    \"role\": \"model\",\n",
        "    \"parts\": [\"​\"]\n",
        "  },\n",
        "])\n",
        "\n",
        "convo.send_message(\"Only give the url of the network - what is the balance of Bholu on Aleph Zero Testnet Network?\")\n",
        "print(convo.last.text)\n",
        "\n",
        "substrate = SubstrateInterface(convo.last.text)\n",
        "\n",
        "result = substrate.query('System', 'Account', ['5HMrodMT8vphQUyd3PxKE7i6G4rPLEqeZG18ener4Mvet1ei'])\n",
        "print(result.value['data'])"
      ],
      "metadata": {
        "colab": {
          "base_uri": "https://localhost:8080/",
          "height": 52
        },
        "id": "ueX2X9yxBRvq",
        "outputId": "39dc76bf-45b4-4d0f-911f-06184d9ac4ab"
      },
      "execution_count": 40,
      "outputs": [
        {
          "output_type": "stream",
          "name": "stdout",
          "text": [
            "wss://aleph-zero-testnet-rpc.dwellir.com\n",
            "{'free': 25300989315289120, 'reserved': 0, 'frozen': 0, 'flags': 170141183460469231731687303715884105728}\n"
          ]
        }
      ]
    },
    {
      "cell_type": "code",
      "source": [
        "# For Price Quote Fetch\n",
        "# Use Gemini API for converting use requests into price feed api\n",
        "# https://api.coinbase.com/v2/prices/BTC-INR/spot\n",
        "\n",
        "import requests\n",
        "\n",
        "convo = model.start_chat(history=[\n",
        "  {\n",
        "    \"role\": \"user\",\n",
        "    \"parts\": [\"Here's a sample url of a coinbase API which fetches the price information of Bitcoin-USD pair (https://api.coinbase.com/v2/prices/BTC-INR/spot), I will next provide you a name of a cryptocurrency with its symbol or only a name, I want you to find the corresponding symbol for and construct the URL for its price feed on coinbase. The output that I expect is only URL and no extra text or information.\"]\n",
        "  },\n",
        "  {\n",
        "    \"role\": \"model\",\n",
        "    \"parts\": [\"​\"]\n",
        "  },\n",
        "])\n",
        "\n",
        "convo.send_message(\"what is Ethereum's current price?\")\n",
        "print(convo.last.text)\n",
        "\n",
        "response = requests.get(convo.last.text)\n",
        "print(response.json())"
      ],
      "metadata": {
        "colab": {
          "base_uri": "https://localhost:8080/",
          "height": 52
        },
        "id": "g57bF4T5zOr4",
        "outputId": "14b74c6e-3d41-45b4-80de-b10a886c6956"
      },
      "execution_count": 4,
      "outputs": [
        {
          "output_type": "stream",
          "name": "stdout",
          "text": [
            "https://api.coinbase.com/v2/prices/ETH-USD/spot\n",
            "{'data': {'amount': '3434.26', 'base': 'ETH', 'currency': 'USD'}}\n"
          ]
        }
      ]
    },
    {
      "cell_type": "code",
      "source": [
        "# Creating a new Keypair\n",
        "\n",
        "from substrateinterface import Keypair\n",
        "\n",
        "new_key = Keypair.generate_mnemonic()\n",
        "print(new_key)\n",
        "addr = Keypair.create_from_mnemonic(new_key)\n",
        "print(addr)"
      ],
      "metadata": {
        "id": "FHtWPEPJ7qcM",
        "colab": {
          "base_uri": "https://localhost:8080/"
        },
        "outputId": "d0c96773-9ac3-42d1-d417-8b9acfc2cf4d"
      },
      "execution_count": 6,
      "outputs": [
        {
          "output_type": "stream",
          "name": "stdout",
          "text": [
            "rival genre matrix normal coconut glad wire carbon rookie degree stuff design\n",
            "<Keypair (address=5FvCWaJGwkz1V7TTigKmD2uMfrZ6h75DAHpZUbKQMp9Q7tDK)>\n"
          ]
        }
      ]
    },
    {
      "cell_type": "code",
      "source": [
        "# Creating a transfer extrinsic and calling it\n",
        "\n",
        "from substrateinterface import SubstrateInterface, Keypair\n",
        "from substrateinterface.exceptions import SubstrateRequestException\n",
        "\n",
        "seed_one = \"rubber bachelor distance stem usual behave edit electric exile hungry budget marriage\"\n",
        "seed_two = \"milk breeze flush panda carry acoustic sense potato intact prison thing confirm\"\n",
        "\n",
        "convo = model.start_chat(history=[\n",
        "  {\n",
        "    \"role\": \"user\",\n",
        "    \"parts\": [\"You are being given a transaction prompt, from which you need to find out the amount that the user wants to send. Only give amount as output (for example - 10).\"]\n",
        "  },\n",
        "  {\n",
        "    \"role\": \"model\",\n",
        "    \"parts\": [\"​\"]\n",
        "  },\n",
        "])\n",
        "\n",
        "convo.send_message(\"Send 100 AZERO to Bholu from my wallet-1\")\n",
        "print(convo.last.text)\n",
        "\n",
        "# Create a model chat that identifies network and decimals\n",
        "\n",
        "substrate = SubstrateInterface(\"wss://aleph-zero-testnet-rpc.dwellir.com\")\n",
        "\n",
        "call = substrate.compose_call(\n",
        "    call_module='Balances',\n",
        "    call_function='transfer_allow_death',\n",
        "    call_params={\n",
        "        'dest': '5HMrodMT8vphQUyd3PxKE7i6G4rPLEqeZG18ener4Mvet1ei',\n",
        "        'value': 1 * 10**12\n",
        "    }\n",
        ")\n",
        "\n",
        "extrinsic = substrate.create_signed_extrinsic(call=call, keypair=Keypair.create_from_mnemonic(seed_one))\n",
        "\n",
        "try:\n",
        "    receipt = substrate.submit_extrinsic(extrinsic, wait_for_inclusion=True)\n",
        "\n",
        "    print('Extrinsic \"{}\" included in block \"{}\"'.format(\n",
        "        receipt.extrinsic_hash, receipt.block_hash\n",
        "    ))\n",
        "\n",
        "    if receipt.is_success:\n",
        "\n",
        "        print('✅ Success, triggered events:')\n",
        "        for event in receipt.triggered_events:\n",
        "            print(f'* {event.value}')\n",
        "\n",
        "    else:\n",
        "        print('⚠️ Extrinsic Failed: ', receipt.error_message)\n",
        "\n",
        "\n",
        "except SubstrateRequestException as e:\n",
        "    print(\"Failed to send: {}\".format(e))"
      ],
      "metadata": {
        "colab": {
          "base_uri": "https://localhost:8080/",
          "height": 193
        },
        "id": "DIfJ2Xba4Vw1",
        "outputId": "49373f35-4b29-4ab4-e4e1-14cc32fb38f9"
      },
      "execution_count": 62,
      "outputs": [
        {
          "output_type": "stream",
          "name": "stdout",
          "text": [
            "100\n",
            "Extrinsic \"0x92415741ab543f9e0a15ff4045d562a7537b17ff6287ee282ff474a91042a036\" included in block \"0x0aab1ffb30188efd7c3a4192658411419f56f2de02e8b07bed32127e617541e7\"\n",
            "✅ Success, triggered events:\n",
            "* {'phase': 'ApplyExtrinsic', 'extrinsic_idx': 1, 'event': {'event_index': '0508', 'module_id': 'Balances', 'event_id': 'Withdraw', 'attributes': {'who': '5DSBAA9BEP5skMivJBye2J5dMLQVkRKVHmM5MJ8owfeNjmV9', 'amount': 308531145}}, 'event_index': 5, 'module_id': 'Balances', 'event_id': 'Withdraw', 'attributes': {'who': '5DSBAA9BEP5skMivJBye2J5dMLQVkRKVHmM5MJ8owfeNjmV9', 'amount': 308531145}, 'topics': []}\n",
            "* {'phase': 'ApplyExtrinsic', 'extrinsic_idx': 1, 'event': {'event_index': '0502', 'module_id': 'Balances', 'event_id': 'Transfer', 'attributes': {'from': '5DSBAA9BEP5skMivJBye2J5dMLQVkRKVHmM5MJ8owfeNjmV9', 'to': '5HMrodMT8vphQUyd3PxKE7i6G4rPLEqeZG18ener4Mvet1ei', 'amount': 1000000000000}}, 'event_index': 5, 'module_id': 'Balances', 'event_id': 'Transfer', 'attributes': {'from': '5DSBAA9BEP5skMivJBye2J5dMLQVkRKVHmM5MJ8owfeNjmV9', 'to': '5HMrodMT8vphQUyd3PxKE7i6G4rPLEqeZG18ener4Mvet1ei', 'amount': 1000000000000}, 'topics': []}\n",
            "* {'phase': 'ApplyExtrinsic', 'extrinsic_idx': 1, 'event': {'event_index': '0507', 'module_id': 'Balances', 'event_id': 'Deposit', 'attributes': {'who': '5EYCAe5fg5WiYGVNH6QpCFnu55Hzv9MwtjFHdQCx8EaSQTm2', 'amount': 308531145}}, 'event_index': 5, 'module_id': 'Balances', 'event_id': 'Deposit', 'attributes': {'who': '5EYCAe5fg5WiYGVNH6QpCFnu55Hzv9MwtjFHdQCx8EaSQTm2', 'amount': 308531145}, 'topics': []}\n",
            "* {'phase': 'ApplyExtrinsic', 'extrinsic_idx': 1, 'event': {'event_index': '0d06', 'module_id': 'Treasury', 'event_id': 'Deposit', 'attributes': {'value': 308531145}}, 'event_index': 13, 'module_id': 'Treasury', 'event_id': 'Deposit', 'attributes': {'value': 308531145}, 'topics': []}\n",
            "* {'phase': 'ApplyExtrinsic', 'extrinsic_idx': 1, 'event': {'event_index': '0600', 'module_id': 'TransactionPayment', 'event_id': 'TransactionFeePaid', 'attributes': {'who': '5DSBAA9BEP5skMivJBye2J5dMLQVkRKVHmM5MJ8owfeNjmV9', 'actual_fee': 308531145, 'tip': 0}}, 'event_index': 6, 'module_id': 'TransactionPayment', 'event_id': 'TransactionFeePaid', 'attributes': {'who': '5DSBAA9BEP5skMivJBye2J5dMLQVkRKVHmM5MJ8owfeNjmV9', 'actual_fee': 308531145, 'tip': 0}, 'topics': []}\n",
            "* {'phase': 'ApplyExtrinsic', 'extrinsic_idx': 1, 'event': {'event_index': '0000', 'module_id': 'System', 'event_id': 'ExtrinsicSuccess', 'attributes': {'dispatch_info': {'weight': {'ref_time': 308531000, 'proof_size': 3593}, 'class': 'Normal', 'pays_fee': 'Yes'}}}, 'event_index': 0, 'module_id': 'System', 'event_id': 'ExtrinsicSuccess', 'attributes': {'dispatch_info': {'weight': {'ref_time': 308531000, 'proof_size': 3593}, 'class': 'Normal', 'pays_fee': 'Yes'}}, 'topics': []}\n"
          ]
        }
      ]
    }
  ]
}